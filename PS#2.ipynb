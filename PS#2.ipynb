{
 "cells": [
  {
   "cell_type": "markdown",
   "id": "f19c9f29",
   "metadata": {},
   "source": [
    "# Question 1\n",
    "\n",
    "What value is displayed when the last expression (a) is evaluated? Explain your answer by indicating what happens in every executed statement.\n",
    "\n"
   ]
  },
  {
   "cell_type": "markdown",
   "id": "a78e9ef2",
   "metadata": {},
   "source": [
    "***6***\n",
    "\n",
    "In first statement of \"b()\", variable \"a\" will be assigned the initial value of \"0\". BUt after the first statement, variable \"a\" will be assigned the value of 2.\n",
    "The second statement of \"b()\" will add another value of 2 to variable \"a\". \n",
    "By the third and final execution of \"b()\", variable \"a\" will now be equal to the value of \"6\"."
   ]
  },
  {
   "cell_type": "markdown",
   "id": "7bb47a0e",
   "metadata": {},
   "source": [
    "# Question 2\n",
    "Modify function fileLength() so that a friendly message is printed instead: >>> fileLength('midterm.py') 358 >>> fileLength('idterm.py') File idterm.py not found."
   ]
  },
  {
   "cell_type": "code",
   "execution_count": 2,
   "id": "e29d9f3f",
   "metadata": {},
   "outputs": [],
   "source": [
    "def fileLength(file_name):\n",
    "    try:\n",
    "        with open(file_name) as file:\n",
    "            contents = file.read()\n",
    "            print(len(contents))\n",
    "    except FileNotFoundError:\n",
    "        print(f\"File {file_name} not found.\")"
   ]
  },
  {
   "cell_type": "markdown",
   "id": "b9393e2c",
   "metadata": {},
   "source": [
    "# Question 3\n"
   ]
  },
  {
   "cell_type": "code",
   "execution_count": 7,
   "id": "0f924c7a",
   "metadata": {},
   "outputs": [],
   "source": [
    "class Marsupial:\n",
    "    def __init__(self):\n",
    "        self.pouch = []\n",
    "    \n",
    "    def put_in_pouch(self, item):\n",
    "        self.pouch.append(item)\n",
    "    \n",
    "    def pouch_contents(self):\n",
    "        return self.pouch\n",
    "\n",
    "class Kangaroo(Marsupial):\n",
    "    def __init__(self, x, y):\n",
    "        super().__init__()\n",
    "        self.x = x\n",
    "        self.y = y\n",
    "        \n",
    "    def jump(self, dx, dy):\n",
    "        self.x += dx\n",
    "        self.y += dy\n",
    "        \n",
    "    def __str__(self):\n",
    "        return f\"I am a Kangaroo located at coordinates ({self.x},{self.y})\""
   ]
  },
  {
   "cell_type": "code",
   "execution_count": 8,
   "id": "39e4832f",
   "metadata": {},
   "outputs": [
    {
     "name": "stdout",
     "output_type": "stream",
     "text": [
      "I am a Kangaroo located at coordinates (0,0)\n"
     ]
    }
   ],
   "source": [
    "k = Kangaroo(0,0)\n",
    "print(k)"
   ]
  },
  {
   "cell_type": "code",
   "execution_count": 9,
   "id": "01b9ae1f",
   "metadata": {},
   "outputs": [
    {
     "name": "stdout",
     "output_type": "stream",
     "text": [
      "['firetruck', 'kitten']\n"
     ]
    }
   ],
   "source": [
    "k.put_in_pouch('firetruck')\n",
    "k.put_in_pouch('kitten')\n",
    "print(k.pouch_contents())"
   ]
  },
  {
   "cell_type": "code",
   "execution_count": 10,
   "id": "3aa84e48",
   "metadata": {},
   "outputs": [
    {
     "name": "stdout",
     "output_type": "stream",
     "text": [
      "I am a Kangaroo located at coordinates (243,145)\n"
     ]
    }
   ],
   "source": [
    "k.jump(231,43)\n",
    "k.jump(12,102)\n",
    "print(k)"
   ]
  },
  {
   "cell_type": "markdown",
   "id": "973484c6",
   "metadata": {},
   "source": [
    "# Question 4\n",
    "Write function collatz() that takes a positive integer x as input and prints the Collatz sequence starting at x."
   ]
  },
  {
   "cell_type": "code",
   "execution_count": 11,
   "id": "2bfc2482",
   "metadata": {},
   "outputs": [],
   "source": [
    "def collatz(x):\n",
    "    print(x)\n",
    "    if x == 1:\n",
    "        return\n",
    "    elif x % 2 == 0:\n",
    "        collatz(x // 2)\n",
    "    else:\n",
    "        collatz(3*x + 1)"
   ]
  },
  {
   "cell_type": "code",
   "execution_count": 12,
   "id": "c23884af",
   "metadata": {},
   "outputs": [
    {
     "name": "stdout",
     "output_type": "stream",
     "text": [
      "10\n",
      "5\n",
      "16\n",
      "8\n",
      "4\n",
      "2\n",
      "1\n"
     ]
    }
   ],
   "source": [
    "collatz(10)"
   ]
  },
  {
   "cell_type": "markdown",
   "id": "5742bbcd",
   "metadata": {},
   "source": [
    "# Question 5\n",
    "Write a recursive method binary() that takes a non-negative integer n and prints the binary representation of integer n."
   ]
  },
  {
   "cell_type": "code",
   "execution_count": 13,
   "id": "f3f1e175",
   "metadata": {},
   "outputs": [],
   "source": [
    "def binary(n):\n",
    "    if n == 0:\n",
    "        return '0'\n",
    "    elif n == 1:\n",
    "        return '1'\n",
    "    else:\n",
    "        return binary(n // 2) + str(n % 2)"
   ]
  },
  {
   "cell_type": "code",
   "execution_count": 14,
   "id": "875d9ffa",
   "metadata": {},
   "outputs": [
    {
     "name": "stdout",
     "output_type": "stream",
     "text": [
      "0\n"
     ]
    }
   ],
   "source": [
    "print(binary(0))"
   ]
  },
  {
   "cell_type": "code",
   "execution_count": 15,
   "id": "9b8c5755",
   "metadata": {},
   "outputs": [
    {
     "name": "stdout",
     "output_type": "stream",
     "text": [
      "100\n"
     ]
    }
   ],
   "source": [
    "print(binary(4))"
   ]
  },
  {
   "cell_type": "markdown",
   "id": "730be2b6",
   "metadata": {},
   "source": [
    "# Question 6\n",
    "\n",
    "Implement a class named HeadingParser that can be used to parse an HTML document, and retrieve and print all the headings in the document."
   ]
  },
  {
   "cell_type": "code",
   "execution_count": 1,
   "id": "b62cea90",
   "metadata": {},
   "outputs": [
    {
     "name": "stdout",
     "output_type": "stream",
     "text": [
      "W3C Mission\n",
      " Principles\n"
     ]
    }
   ],
   "source": [
    "from html.parser import HTMLParser\n",
    "\n",
    "class HeadingParser(HTMLParser):\n",
    "    def __init__(self):\n",
    "        super().__init__()\n",
    "        self.inHeading = False\n",
    "        self.indentation = 0\n",
    "\n",
    "    def handle_starttag(self, tag, attrs):\n",
    "        if tag in ['h1', 'h2', 'h3', 'h4', 'h5', 'h6']:\n",
    "            self.inHeading = True\n",
    "            self.indentation = int(tag[1]) - 1\n",
    "\n",
    "    def handle_endtag(self, tag):\n",
    "        if tag in ['h1', 'h2', 'h3', 'h4', 'h5', 'h6']:\n",
    "            self.inHeading = False\n",
    "\n",
    "    def handle_data(self, data):\n",
    "        if self.inHeading:\n",
    "            print(' ' * self.indentation + data)\n",
    "            \n",
    "            \n",
    "with open('w3c.html', 'r') as file:\n",
    "    html_headings = file.read()\n",
    "\n",
    "parser = HeadingParser()\n",
    "parser.feed(html_headings)"
   ]
  },
  {
   "cell_type": "markdown",
   "id": "156616c8",
   "metadata": {},
   "source": [
    "# Question 7 \n",
    "Implement recursive function webdir() that takes as input: a URL (as a string) and non-negative integers depth and indent."
   ]
  },
  {
   "cell_type": "code",
   "execution_count": null,
   "id": "74de9f50",
   "metadata": {},
   "outputs": [],
   "source": [
    "def webdir(url, depth, indent):\n",
    "    if depth == 0:\n",
    "        print(' ' * indent + url)\n",
    "        return\n",
    "\n",
    "    print(' ' * indent + url)\n",
    "    \n",
    "    for link in more_url(url):\n",
    "        webdir(link, depth - 1, indent + 2)"
   ]
  },
  {
   "cell_type": "markdown",
   "id": "f74cc4df",
   "metadata": {},
   "source": [
    "# Question 8\n",
    "Write SQL queries on the below database table"
   ]
  },
  {
   "cell_type": "markdown",
   "id": "dd660696",
   "metadata": {},
   "source": [
    "!pip install ipython-sql\n",
    "\n",
    "%%sql\n",
    "SELECT Temperature (C) FROM IndiaWeather;\n",
    "\n",
    "%%sql\n",
    "SELECT DISTINCT City FROM IndiaWeather;\n",
    "\n",
    "%%sql\n",
    "SELECT * FROM IndiaWeather WHERE Country = 'India';\n",
    "\n",
    "%%sql\n",
    "SELECT * FROM IndiaWeather WHERE Season = 'Fall;\n",
    "\n",
    "%%sql\n",
    "SELECT City, Country, Season \n",
    "FROM IndiaWeather \n",
    "WHERE Rainfall (mm) BETWEEN 200 AND 400;\n",
    "\n",
    "%%sql\n",
    "SELECT City, Country \n",
    "FROM IndiaWeather \n",
    "WHERE Season = 'Fall' AND Temperature (C) > 20 \n",
    "ORDER BY Temperature (C) ASC;\n",
    "\n",
    "%%sql\n",
    "g) SELECT SUM(Rainfall (mm)) AS TotalAnnualRainfall \n",
    "FROM IndiaWeather \n",
    "WHERE City = 'Cairo';\n",
    "\n",
    "%%sql\n",
    "SELECT Season, SUM(Rainfall (mm)) AS TotalRainfall \n",
    "FROM IndiaWeather \n",
    "GROUP BY Season;\n"
   ]
  },
  {
   "cell_type": "markdown",
   "id": "92d845e0",
   "metadata": {},
   "source": [
    "# Question 9\n",
    ". Suppose list words is defined as follows:\n",
    ">>> words = ['The', 'quick', 'brown', 'fox', 'jumps', 'over', 'the', 'lazy', 'dog']"
   ]
  },
  {
   "cell_type": "code",
   "execution_count": 3,
   "id": "69ed5d78",
   "metadata": {},
   "outputs": [],
   "source": [
    "words = ['The', 'quick', 'brown', 'fox', 'jumps', 'over', 'the', 'lazy', 'dog']"
   ]
  },
  {
   "cell_type": "code",
   "execution_count": 4,
   "id": "303ebdc0",
   "metadata": {},
   "outputs": [
    {
     "data": {
      "text/plain": [
       "['THE', 'QUICK', 'BROWN', 'FOX', 'JUMPS', 'OVER', 'THE', 'LAZY', 'DOG']"
      ]
     },
     "execution_count": 4,
     "metadata": {},
     "output_type": "execute_result"
    }
   ],
   "source": [
    "\n",
    "[word.upper() for word in words]"
   ]
  },
  {
   "cell_type": "code",
   "execution_count": 5,
   "id": "40802bca",
   "metadata": {},
   "outputs": [
    {
     "data": {
      "text/plain": [
       "['the', 'quick', 'brown', 'fox', 'jumps', 'over', 'the', 'lazy', 'dog']"
      ]
     },
     "execution_count": 5,
     "metadata": {},
     "output_type": "execute_result"
    }
   ],
   "source": [
    "[word.lower() for word in words]"
   ]
  },
  {
   "cell_type": "code",
   "execution_count": 6,
   "id": "ade10ed5",
   "metadata": {},
   "outputs": [
    {
     "data": {
      "text/plain": [
       "[3, 5, 5, 3, 5, 4, 3, 4, 3]"
      ]
     },
     "execution_count": 6,
     "metadata": {},
     "output_type": "execute_result"
    }
   ],
   "source": [
    "[len(word) for word in words]"
   ]
  },
  {
   "cell_type": "code",
   "execution_count": 7,
   "id": "36b9499f",
   "metadata": {},
   "outputs": [
    {
     "data": {
      "text/plain": [
       "[['THE', 'the', 3],\n",
       " ['QUICK', 'quick', 5],\n",
       " ['BROWN', 'brown', 5],\n",
       " ['FOX', 'fox', 3],\n",
       " ['JUMPS', 'jumps', 5],\n",
       " ['OVER', 'over', 4],\n",
       " ['THE', 'the', 3],\n",
       " ['LAZY', 'lazy', 4],\n",
       " ['DOG', 'dog', 3]]"
      ]
     },
     "execution_count": 7,
     "metadata": {},
     "output_type": "execute_result"
    }
   ],
   "source": [
    "[[word.upper(), word.lower(), len(word)] for word in words]"
   ]
  },
  {
   "cell_type": "code",
   "execution_count": 8,
   "id": "a5aea78f",
   "metadata": {},
   "outputs": [
    {
     "data": {
      "text/plain": [
       "['quick', 'brown', 'jumps', 'over', 'lazy']"
      ]
     },
     "execution_count": 8,
     "metadata": {},
     "output_type": "execute_result"
    }
   ],
   "source": [
    "[word for word in words if len(word) >= 4]\n"
   ]
  },
  {
   "cell_type": "markdown",
   "id": "770e8b7c",
   "metadata": {},
   "source": [
    "# END"
   ]
  }
 ],
 "metadata": {
  "kernelspec": {
   "display_name": "Python 3 (ipykernel)",
   "language": "python",
   "name": "python3"
  },
  "language_info": {
   "codemirror_mode": {
    "name": "ipython",
    "version": 3
   },
   "file_extension": ".py",
   "mimetype": "text/x-python",
   "name": "python",
   "nbconvert_exporter": "python",
   "pygments_lexer": "ipython3",
   "version": "3.11.4"
  }
 },
 "nbformat": 4,
 "nbformat_minor": 5
}
